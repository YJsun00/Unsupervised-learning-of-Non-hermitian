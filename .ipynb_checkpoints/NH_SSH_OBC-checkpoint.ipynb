{
 "cells": [
  {
   "cell_type": "markdown",
   "id": "c540365f",
   "metadata": {},
   "source": [
    "# Important notes:\n",
    "## The codes cannot run directly cell by cell\n",
    "## Run the codes at the last cell (part C) where there is only the \"main program\" "
   ]
  },
  {
   "cell_type": "code",
   "execution_count": 37,
   "id": "9b675b37",
   "metadata": {},
   "outputs": [],
   "source": [
    "import numpy as np\n",
    "import matplotlib.pyplot as plt\n",
    "import scipy.linalg as la\n",
    "from scipy.linalg import eig\n",
    "import math\n",
    "\n",
    "GAMMA = 0.4\n",
    "T2 = 0.6\n",
    "N = 40\n",
    "epsilon = 0.0001"
   ]
  },
  {
   "cell_type": "markdown",
   "id": "cacd87f0",
   "metadata": {},
   "source": [
    "## A. Diffusion Maps & Gaussian Kernel "
   ]
  },
  {
   "cell_type": "code",
   "execution_count": 38,
   "id": "955b1743",
   "metadata": {},
   "outputs": [],
   "source": [
    "def diffusion_mat(datas, gaussian_kfunc):\n",
    "    \"\"\"\n",
    "    Parameters\n",
    "    ----------\n",
    "    datas : ndarray\n",
    "        n samples with m features should have shape [n,m].\n",
    "    gaussian_kfunc: callable function\n",
    "        gaussian kernel function.\n",
    "    Returns\n",
    "    -------\n",
    "    ndarray\n",
    "        one-step difussion matrix.\n",
    "    \"\"\"\n",
    "\n",
    "    df_mat = np.zeros((datas.shape[0] ,datas.shape[0]))\n",
    "    for i in range(datas.shape[0]):\n",
    "        for j in range( i +1 ,datas.shape[0]):\n",
    "            df_mat[i ,j] = gaussian_kfunc(datas[i], datas[j])\n",
    "    df_mat = df_mat + df_mat.T + np.eye(datas.shape[0], datas.shape[0])  # calculate the 'distance', same values result 1\n",
    "    return df_mat\n",
    "\n",
    "\n",
    "class GaussianKernel:\n",
    "    def __init__(self, N, epsilon, norm=\"L1\"):\n",
    "        self.N = N\n",
    "        self.epsilon = epsilon\n",
    "        self.norm = norm\n",
    "\n",
    "    def __call__(self, x1, x2):\n",
    "        if self.norm == \"L1\":\n",
    "            return np.exp(-np.sum(np.abs(x1 -x2) )** 2 /( 2 *self.epsilon *self.N**2))\n",
    "        elif self.norm == \"L2\":\n",
    "            return np.exp(-np.abs(x1 - x2)**2 / (2 * self.epsilon * self.N**2))\n",
    "        else:\n",
    "            raise Exception(\"undefine norm type\")\n"
   ]
  },
  {
   "cell_type": "markdown",
   "id": "11c034bf",
   "metadata": {},
   "source": [
    "## B. Data operation -- Class: SSH_OB_data\n",
    "\n",
    "### Initialize"
   ]
  },
  {
   "cell_type": "code",
   "execution_count": 39,
   "id": "6ed29312",
   "metadata": {},
   "outputs": [],
   "source": [
    "class SSH_OB_data:\n",
    "    def __init__(self, gamma, t1_list, t2, N, path=\"./\"):\n",
    "        self.path = path\n",
    "        self.gamma = gamma\n",
    "        self.t1_list = t1_list\n",
    "        self.t2 = t2\n",
    "        self.N = N"
   ]
  },
  {
   "cell_type": "markdown",
   "id": "5fb3ecc1",
   "metadata": {},
   "source": [
    "### Generate projection matrix"
   ]
  },
  {
   "cell_type": "markdown",
   "id": "0971815b",
   "metadata": {},
   "source": [
    "#### 1. Construction of Hamiltonian in real space\n",
    "The Hamiltonian should be written as below for open boundary condition:\n",
    "<!-- $$\n",
    "\\begin{pmatrix}\n",
    "0 & t_1+\\gamma & 0 & 0 & \\cdots \\\\\n",
    "t_1-\\gamma & 0 & t_2 & 0 & \\cdots \\\\\n",
    "0 & t_2 & 0 & t_1+\\gamma & 0\\\\\n",
    "0 & 0 & t_1-\\gamma & 0 & t2\n",
    "\\end{pmatrix}\n",
    "$$ -->\n",
    "$$\n",
    "\\begin{pmatrix}\n",
    "U & T & 0 & 0 &   & 0 & 0\\\\\n",
    "T^{\\dagger} & U & T & 0 & \\cdots & 0 & 0\\\\\n",
    "0 & T^{\\dagger} & U & T &   & 0 & 0\\\\\n",
    "  &  \\vdots &   & \\ddots &   &  &  \\\\\n",
    "0 &   &  0 & T^{\\dagger} & U & T & 0\\\\\n",
    "0 & \\cdots & 0 & 0 & T^{\\dagger} & U & T\\\\\n",
    "0 &   & 0 & 0 & 0 & T^{\\dagger} & U\\\\\n",
    "\\end{pmatrix}_{(2N, 2N)}\n",
    "$$\n",
    "where\n",
    "$$\n",
    "U=\\begin{pmatrix}\n",
    "0 & t_1+\\gamma\\\\\n",
    "t_1-\\gamma & 0\n",
    "\\end{pmatrix}, T=\\begin{pmatrix}\n",
    "0 & 0\\\\\n",
    "t_2 & 0\n",
    "\\end{pmatrix}\n",
    "$$\n",
    "Here the **init** is the hamiltonian"
   ]
  },
  {
   "cell_type": "markdown",
   "id": "a87b2769",
   "metadata": {},
   "source": [
    "#### 2. Solve the Hamiltonian numerically\n",
    "Using **numpy.linalg.eig** to solve the matrix.\n",
    "\n",
    "According to the definition, we have:\n",
    "\\begin{equation}\\begin{array}\\\\\n",
    "\\text{right eigenvector:} & H|right\\rangle = v_{right}|right\\rangle\\\\\n",
    "\\text{left eigenvector:} & H^{\\dagger}|left\\rangle = v_{left}|left\\rangle\n",
    "\\end{array}\n",
    "\\end{equation}\n",
    "When $v_{right}=v_{left}^*$, the respected eigenvectors are in a pair.\n",
    "\n",
    "Thus some steps are needed to get right and left eigenvector aligned.\n",
    "\n"
   ]
  },
  {
   "cell_type": "markdown",
   "id": "a64ad6eb",
   "metadata": {},
   "source": [
    "#### 3. Calculating projection\n",
    "\n",
    "P matrix is:\n",
    "$$\n",
    "P = \\sum _{Re[E]<0} |m_R\\rangle \\langle m_L |\n",
    "$$\n",
    "Assume the eigen vector matrix for the real space:\n",
    "$$\n",
    "V_R = \\begin{pmatrix}\n",
    "\\psi_{R1}(1A) & \\psi_{R2}(1A) & \\cdots & \\psi_{Rn}(1A) \\\\\n",
    "\\psi_{R1}(1B) & \\psi_{R2}(1B) & \\cdots & \\psi_{Rn}(1B) \\\\\n",
    "\\vdots & \\vdots & \\ddots & \\vdots \\\\\n",
    "\\psi_{R1}(nB) & \\psi_{R2}(nB) & \\cdots & \\psi_{Rn}(nB) \\\\\n",
    "\\end{pmatrix}\n",
    "$$\n",
    "The left vector matrix $V_L$ could be expressed similarly.\n",
    "\n",
    "Thus $P$ could be expressed as:\n",
    "$$\n",
    "P=V_R \\times V_L^{\\dagger}=\\begin{pmatrix}\n",
    "\\sum_{i=1}^{n}\\psi_{Ri}(1A)\\psi_{Li}(1A)^* & \\sum_{i=1}^{n}\\psi_{Ri}(1A)\\psi_{Li}(1B)^* &\n",
    "\\cdots & \\sum_{i=1}^{n}\\psi_{Ri}(1A)\\psi_{Li}(nB)^*\\\\\n",
    "\\sum_{i=1}^{n}\\psi_{Ri}(1B)\\psi_{Li}(1A)^* & \\sum_{i=1}^{n}\\psi_{Ri}(1B)\\psi_{Li}(1B)^* &\n",
    "\\cdots & \\sum_{i=1}^{n}\\psi_{Ri}(1B)\\psi_{Li}(nB)^*\\\\\n",
    "\\vdots & \\vdots & \\ddots & \\vdots \\\\\n",
    "\\sum_{i=1}^{n}\\psi_{Ri}(nB)\\psi_{Li}(1A)^* & \\sum_{i=1}^{n}\\psi_{Ri}(nB)\\psi_{Li}(1B)^* &\n",
    "\\cdots & \\sum_{i=1}^{n}\\psi_{Ri}(nB)\\psi_{Li}(nB)^*\\\\\n",
    "\\end{pmatrix}\n",
    "$$\n",
    "\n",
    "There are only eigenvectors with the eigenvalue larger than 0 remaining, i.e. $\\sum_{i=1}^{n}$ in each element means we only sum the remained eigenvectors mentioned above.In the usual cases, $V_R$ and $V_L$ would be a $(2n, n)$ with each column vector an eigenvector. $P$ would be a $(2n, 2n)$ matrix.\n",
    "\n",
    "We write matrix P as:\n",
    "$$\\begin{pmatrix}\n",
    "P_{1,1} & P_{1,2} & \\cdots & P_{1,2n}\\\\\n",
    "P_{2,1} & P_{2,2} & \\cdots & P_{2,2n}\\\\\n",
    "\\vdots & \\vdots & \\ddots & \\vdots \\\\\n",
    "P_{2n,1} & P_{2n,2} & \\cdots & P_{2n,2n}\\\\\n",
    "\\end{pmatrix}\n",
    "$$"
   ]
  },
  {
   "cell_type": "code",
   "execution_count": 40,
   "id": "330d91ec",
   "metadata": {},
   "outputs": [],
   "source": [
    "    def construct_p(self, t1):\n",
    "        \n",
    "        ''' Step 1 : Construction of Hamiltonian in real space '''\n",
    "        \n",
    "        U = np.array([[0, t1+self.gamma], [t1-self.gamma, 0]])\n",
    "        T = np.array([[0, 0], [self.t2, 0]])\n",
    "        init = U\n",
    "        for cell in range(self.N-1):\n",
    "            init = la.block_diag(init, U)\n",
    "        for row in range(1, self.N-1):\n",
    "            init[2*row:2*row+2, 2*row-2:2*row] = (T.transpose().conjugate())\n",
    "            init[2 * row:2 * row+2, 2 * row+2:2 * row + 4] = T\n",
    "        init[0:2, 2:4] = T\n",
    "        init[2*self.N-2:2*self.N, 2*self.N-4:2*self.N-2] = T.transpose().conjugate()\n",
    "        \n",
    "        ''' Step 2 : Solve the Hamiltonian numerically '''\n",
    "        \n",
    "        w1, right_v = np.linalg.eig(init) \n",
    "        w2, left_v = np.linalg.eig(\n",
    "                 init.transpose().conjugate()) \n",
    "        w2 = w2.conjugate()  # Get the conjugate of eigenvalues of left-eigenvectors\n",
    "        inv_index = np.argsort(w2)  # sort eigenvalues of left eigenvectors, return index\n",
    "        # inv_index = inv_index[::-1]\n",
    "        w2 = w2[inv_index]  # Sort eigenvalues of left eigenvectors\n",
    "        left_v = left_v[:, inv_index]  # Sort left eigenvectors accordingly\n",
    "        inv_index = np.argsort(w1)\n",
    "        w1 = w1[inv_index]\n",
    "        right_v = right_v[:, inv_index]\n",
    "        \n",
    "        ''' Step 3 Calculating projection '''\n",
    "\n",
    "        num_list = []\n",
    "        for i in range(right_v.shape[1]):\n",
    "            if w1[i].real < 0:\n",
    "                num_list.append(i)\n",
    "        right_v = right_v[:, num_list]\n",
    "        left_v = left_v[:, num_list]\n",
    "        p = np.dot(right_v, left_v.transpose().conjugate())\n",
    "        return p"
   ]
  },
  {
   "cell_type": "markdown",
   "id": "dafed46f",
   "metadata": {},
   "source": [
    "### Modify projection matrix\n",
    "\n",
    "Thus we need to choose the elements as $P_{1,2}, P_{3,4}, P_{2k-1, 2k}...$ where $k \\in [1, n]$"
   ]
  },
  {
   "cell_type": "code",
   "execution_count": 41,
   "id": "b9bdee4e",
   "metadata": {},
   "outputs": [],
   "source": [
    "    def modify_p(self, data):\n",
    "        new_p = []\n",
    "        for row in range(0, data.shape[0], 2):\n",
    "            new_p.append(data[row, row+1])\n",
    "        new = np.array(new_p)\n",
    "        return new"
   ]
  },
  {
   "cell_type": "markdown",
   "id": "2ce8c2a4",
   "metadata": {},
   "source": [
    "### Generate the whole data set"
   ]
  },
  {
   "cell_type": "code",
   "execution_count": 42,
   "id": "af3cb0f6",
   "metadata": {},
   "outputs": [],
   "source": [
    "    def construct_p_list(self):\n",
    "        \"\"\"\n",
    "        Returns\n",
    "        -------\n",
    "        ndarray\n",
    "        [number of items * N]: the datasets for different varying t1\n",
    "        \"\"\"\n",
    "        p_list = []\n",
    "        for t1_init in self.t1_list:\n",
    "            initial_P = self.construct_p(t1_init)\n",
    "            p_list.append(self.modify_p(initial_P))\n",
    "        p_list = np.array(p_list)\n",
    "        return p_list"
   ]
  },
  {
   "cell_type": "markdown",
   "id": "c9a1d32b",
   "metadata": {},
   "source": [
    "## C. Main program"
   ]
  },
  {
   "cell_type": "code",
   "execution_count": 50,
   "id": "41d6837c",
   "metadata": {},
   "outputs": [
    {
     "data": {
      "image/png": "[encoded data removed]",
      "text/plain": [
       "<Figure size 1800x288 with 6 Axes>"
      ]
     },
     "metadata": {
      "needs_background": "light"
     },
     "output_type": "display_data"
    },
    {
     "data": {
      "image/png": "[encoded data removed]",
      "text/plain": [
       "<Figure size 432x288 with 1 Axes>"
      ]
     },
     "metadata": {
      "needs_background": "light"
     },
     "output_type": "display_data"
    }
   ],
   "source": [
    "    t1_list = []\n",
    "    a = math.pi\n",
    "    for i in range(500):\n",
    "        t1_list.append(0.0 + i * 1 / math.pi ** 5)\n",
    "    test = SSH_OB_data(GAMMA, t1_list, T2, N)\n",
    "    P_list = test.construct_p_list()\n",
    "    kfunc = GaussianKernel(N, epsilon)\n",
    "    df_mat = diffusion_mat(P_list, kfunc)  # first time diffusion\n",
    "\n",
    "    df_prob = df_mat / np.sum(df_mat, axis=1)[:, np.newaxis]\n",
    "    evals, evs = la.eig(df_prob)\n",
    "    sorted_index = np.argsort(np.real(evals))[::-1]\n",
    "    evs = evs[:, sorted_index]\n",
    "    evals = evals[sorted_index]\n",
    "\n",
    "    fig = plt.figure(figsize=(25, 4))\n",
    "    ax1 = fig.add_subplot(151)\n",
    "    ax1.set_title(\"Gaussian Kernel\", fontsize=16)\n",
    "    c = ax1.pcolormesh(df_mat)\n",
    "    ax1.invert_yaxis()\n",
    "    plt.colorbar(c)\n",
    "\n",
    "    ax2 = fig.add_subplot(152)\n",
    "    ax2.scatter(np.arange(20), evals[:20])\n",
    "    ax2.set_title(\"the 10 largest eigen values\", fontsize=16)\n",
    "\n",
    "    ax3 = fig.add_subplot(153)\n",
    "    ax3.scatter(np.arange(len(t1_list)), np.round(evs[:, 0], 3))\n",
    "    ax3.set_title(\"$\\Psi_0$\", fontsize=16)\n",
    "\n",
    "    ax4 = fig.add_subplot(154)\n",
    "    ax4.scatter(np.arange(len(t1_list)), evs[:, 1])\n",
    "    ax4.set_title(\"$\\Psi_1$\", fontsize=16)\n",
    "\n",
    "    ax5 = fig.add_subplot(155)\n",
    "    ax5.scatter(np.arange(len(t1_list)), evs[:, 2])\n",
    "    ax5.set_title(\"$\\Psi_2$\", fontsize=16)\n",
    "    plt.show()\n",
    "\n",
    "    plt.scatter(evs[:, 0], evs[:, 1])\n",
    "    # plt.title(\"$\\psi_1 - \\psi_4$\")\n",
    "    plt.xlabel(\"$\\psi_1$\")\n",
    "    plt.ylabel(\"$\\psi_1$\")\n",
    "    plt.show()\n"
   ]
  },
  {
   "cell_type": "markdown",
   "id": "912b04f6",
   "metadata": {},
   "source": [
    "## Issues:\n",
    "### Distance between two input value $||x_{m}-x_{n}||$ gives 0  except for the first few data points, resulting that Gaussian kernel equals 1 for most of the data inputs\n",
    "1. Do we need to do the normalization for the input data?\n",
    "\n",
    "2. Do we need to do bi-orthogonal for the left and right eigenvectors?"
   ]
  },
  {
   "cell_type": "code",
   "execution_count": null,
   "id": "a41d1092",
   "metadata": {},
   "outputs": [],
   "source": []
  }
 ],
 "metadata": {
  "kernelspec": {
   "display_name": "Python 3",
   "language": "python",
   "name": "python3"
  },
  "language_info": {
   "codemirror_mode": {
    "name": "ipython",
    "version": 3
   },
   "file_extension": ".py",
   "mimetype": "text/x-python",
   "name": "python",
   "nbconvert_exporter": "python",
   "pygments_lexer": "ipython3",
   "version": "3.8.8"
  }
 },
 "nbformat": 4,
 "nbformat_minor": 5
}
